{
 "metadata": {
  "language_info": {
   "codemirror_mode": {
    "name": "ipython",
    "version": 3
   },
   "file_extension": ".py",
   "mimetype": "text/x-python",
   "name": "python",
   "nbconvert_exporter": "python",
   "pygments_lexer": "ipython3",
   "version": "3.8.5"
  },
  "orig_nbformat": 2,
  "kernelspec": {
   "name": "python385jvsc74a57bd062717988da3a1748178a99c6c0a6b3a99819a78a32e9666064d8381545836fe7",
   "display_name": "Python 3.8.5 64-bit"
  }
 },
 "nbformat": 4,
 "nbformat_minor": 2,
 "cells": [
  {
   "cell_type": "code",
   "execution_count": 11,
   "metadata": {
    "tags": []
   },
   "outputs": [
    {
     "output_type": "stream",
     "name": "stdout",
     "text": [
      "dict_keys(['id', 'name', 'journal', 'authors', 'paragraphs'])\n3477\n[\n    \"EduQA: Educational Domain Question Answering System using Conceptual Network Mapping\",\n    \"*A. Agarwal, *N. Sachdeva, *R. K. Yadav, *V. Udandarao, *V. Mittal, A. Gupta, A. Mathur*equal contribution. abhishek16126, nikhil16061, raj16076, vishaal16119, vrinda16279, , \",\n    \"SBILab, Department of ECE, IIIT-Delhi, India, Million Sparks Foundation\",\n    \"Most of the existing question answering models can be largely compiled into two categories: i) open domain question answering models that answer generic questions and use large-scale knowledge base along with the targeted web-corpus retrieval and ii) closed domain question answering models that address focused questioning area and use complex deep learning models. Both the above models derive answers through textual comprehension methods. Due to their inability to capture the pedagogical meaning of textual content, these models are not appropriately suited to the educational field for pedagogy. In this paper, we propose an on-the-fly conceptual network model that incorporates educational semantics. The proposed model preserves correlations between conceptual entities by applying intelligent indexing algorithms on the concept network so as to improve answer generation. This model can be utilized for building interactive conversational agents for aiding classroom learning.\"\n]\n"
     ]
    }
   ],
   "source": [
    "import json\n",
    "with open(\"english_dataset_full.txt\") as jsonfile:\n",
    "    data = json.load(jsonfile)\n",
    "    print(data[1].keys())\n",
    "    print(len(data))\n",
    "    print(json.dumps(data[1]['paragraphs'][:4], indent=4))"
   ]
  },
  {
   "cell_type": "code",
   "execution_count": 12,
   "metadata": {},
   "outputs": [
    {
     "output_type": "stream",
     "name": "stdout",
     "text": [
      "dict_keys(['id', 'paragraphs'])\n1581\n[\n    [\n        \"Abstract In 5G research, it is traditionally assumed that vertical industries (aka verticals) set the performance requirements for the services they want to offer to mobile users, and the mobile operators alone are in charge of orchestrating their resources so as to meet such requirements\",\n        \"Motivated by the observation that successful orchestration requires reliable traffic predictions, in this paper we investigate the effects of having the verticals, instead of the mobile operators, performing such predictions\",\n        \"Leveraging a real-world, large-scale, crowd-sourced trace, we find that involving the verticals in the prediction process reduces the prediction errors and improves the quality of the resulting orchestration decisions\"\n    ],\n    [\n        \"Unlike their fourth-generation counterparts, 5G networks will not only transport data, but also process them\",\n        \"Network, computing, and memory resources controlled by mobile network operators (MNOs), will concurrently support multiple services, under the network slicing paradigm [1,\\u00a02]\",\n        \"It is universally expected [1,\\u00a02,\\u00a03] that vertical industries (eg, automotive or media companies) specify the requirements of their services, ie, which computation must be performed and the associated target key performance indicators (KPIs)\",\n        \"MNOs, on the other hand, have to manage their network so as to ensure that all target KPIs are met at the lowest cost for themselves, a problem known as service orchestration [4,\\u00a05]\"\n    ],\n    [\n        \"Our purpose in this paper is to study a different model of interaction between vertical industries (henceforth verticals) and MNOs, whereby verticals provide not only the target KPIs but also an estimation of their expected traffic patterns\",\n        \"The reason for this change is that service orchestration is greatly simplified if the evolution of the demand to serve is known 6, or it can be reliably predicted 7, and verticals are in a better position than MNOs to make such a prediction\",\n        \"Indeed, unlike verticals, MNOs cannot access, for technical and legal reasons, detailed, application-layer information on the traffic flowing through their network\",\n        \"It follows that, since network slices are tailored around a single type of service1 , the service-specific predictions that verticals can make may be more useful than predictions made by MNOs\"\n    ],\n    [\n        \"Our first task is therefore to compare the accuracy of the predictions that MNOs and verticals can make based on the information they can access\",\n        \"To this end, we leverage a real-world, large-scale, crowd-sourced trace, containing mobility and traffic information about over 90,000 users in the Los Angeles area\",\n        \"Thanks to its crowd-sourced nature, the trace contains a superset of the information available to verticals and MNOs; therefore, we can consider a state-of-the-art prediction technique, feed it the data available to MNOs and verticals, and check which of them yields the most accurate result\"\n    ]\n]\n"
     ]
    }
   ],
   "source": [
    "import json\n",
    "with open(\"english_dataset_filtered_v2.json\",encoding='utf8') as jsonfile:\n",
    "    data = json.load(jsonfile)\n",
    "    print(data[1].keys())\n",
    "    print(len(data))\n",
    "    print(json.dumps(data[1]['paragraphs'][:4], indent=4))"
   ]
  },
  {
   "cell_type": "code",
   "execution_count": 13,
   "metadata": {},
   "outputs": [
    {
     "output_type": "stream",
     "name": "stdout",
     "text": [
      "dict_keys(['id', 'paragraphs'])\n158\n[\n    [\n        \"Abstract In 5G research, it is traditionally assumed that vertical industries (aka verticals) set the performance requirements for the services they want to offer to mobile users, and the mobile operators alone are in charge of orchestrating their resources so as to meet such requirements\",\n        \"Motivated by the observation that successful orchestration requires reliable traffic predictions, in this paper we investigate the effects of having the verticals, instead of the mobile operators, performing such predictions\",\n        \"Leveraging a real-world, large-scale, crowd-sourced trace, we find that involving the verticals in the prediction process reduces the prediction errors and improves the quality of the resulting orchestration decisions\"\n    ],\n    [\n        \"Unlike their fourth-generation counterparts, 5G networks will not only transport data, but also process them\",\n        \"Network, computing, and memory resources controlled by mobile network operators (MNOs), will concurrently support multiple services, under the network slicing paradigm [1,\\u00a02]\",\n        \"It is universally expected [1,\\u00a02,\\u00a03] that vertical industries (eg, automotive or media companies) specify the requirements of their services, ie, which computation must be performed and the associated target key performance indicators (KPIs)\",\n        \"MNOs, on the other hand, have to manage their network so as to ensure that all target KPIs are met at the lowest cost for themselves, a problem known as service orchestration [4,\\u00a05]\"\n    ],\n    [\n        \"Our purpose in this paper is to study a different model of interaction between vertical industries (henceforth verticals) and MNOs, whereby verticals provide not only the target KPIs but also an estimation of their expected traffic patterns\",\n        \"The reason for this change is that service orchestration is greatly simplified if the evolution of the demand to serve is known 6, or it can be reliably predicted 7, and verticals are in a better position than MNOs to make such a prediction\",\n        \"Indeed, unlike verticals, MNOs cannot access, for technical and legal reasons, detailed, application-layer information on the traffic flowing through their network\",\n        \"It follows that, since network slices are tailored around a single type of service1 , the service-specific predictions that verticals can make may be more useful than predictions made by MNOs\"\n    ],\n    [\n        \"Our first task is therefore to compare the accuracy of the predictions that MNOs and verticals can make based on the information they can access\",\n        \"To this end, we leverage a real-world, large-scale, crowd-sourced trace, containing mobility and traffic information about over 90,000 users in the Los Angeles area\",\n        \"Thanks to its crowd-sourced nature, the trace contains a superset of the information available to verticals and MNOs; therefore, we can consider a state-of-the-art prediction technique, feed it the data available to MNOs and verticals, and check which of them yields the most accurate result\"\n    ]\n]\n"
     ]
    }
   ],
   "source": [
    "import json\n",
    "with open(\"english_dataset_filtered_v2_test.json\",encoding='utf8') as jsonfile:\n",
    "    data = json.load(jsonfile)\n",
    "    print(data[1].keys())\n",
    "    print(len(data))\n",
    "    print(json.dumps(data[1]['paragraphs'][:4], indent=4))"
   ]
  }
 ]
}